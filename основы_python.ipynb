{
  "cells": [
    {
      "cell_type": "markdown",
      "metadata": {
        "id": "M-DGa20PaHnu"
      },
      "source": [
        "#Задача 1\n",
        "Написать функцию на вход которой подается строка, состоящая из латинских букв.\n",
        "Функция должна вернуть количество гласных букв (a, e, i, o, u) в этой строке. Написать тесты для кода"
      ]
    },
    {
      "cell_type": "code",
      "execution_count": 87,
      "metadata": {
        "id": "XvX8X_JJ6PCb"
      },
      "outputs": [],
      "source": [
        "def get_vowels(str):\n",
        "    vowels = 'aeiouAEIOU'\n",
        "    count = 0\n",
        "    for char in str:\n",
        "        if char in vowels:\n",
        "            count += 1\n",
        "    return (count)\n",
        "    \n",
        "def test_get_vowels():\n",
        "    assert get_vowels(\"abcdieieidalOlAdk\") == 9\n",
        "    assert get_vowels(\"Hello, World!\") == 3\n",
        "    assert get_vowels(\"laba123\") == 2\n",
        "\n",
        "test_get_vowels()"
      ]
    },
    {
      "cell_type": "markdown",
      "metadata": {
        "id": "t2ClV_Y0bbr6"
      },
      "source": [
        "# Задача 2\n",
        "Написать функцию на вход, которой подается строка. Функция должна вернуть true, если\n",
        "каждый символ в строке встречается только 1 раз, иначе должна вернуть false. Написать тесты для кода"
      ]
    },
    {
      "cell_type": "code",
      "execution_count": 20,
      "metadata": {
        "id": "FppbECao6VIz"
      },
      "outputs": [],
      "source": [
        "def check_unique_string(str):\n",
        "    seen = set()\n",
        "    for char in str:\n",
        "        if char in seen:\n",
        "            return False\n",
        "        seen.add(char)\n",
        "    return True\n",
        "\n",
        "def test_check_unique_string():\n",
        "    assert check_unique_string('abcd') == True\n",
        "    assert check_unique_string('aaaaaabaac') == False\n",
        "    assert check_unique_string('Modric') == True\n",
        "    assert check_unique_string('Benzema') == False\n",
        "\n",
        "test_check_unique_string()"
      ]
    },
    {
      "cell_type": "markdown",
      "metadata": {
        "id": "udRiIK1cdt6E"
      },
      "source": [
        "# Задача 3\n",
        "Написать функцию, которая принимает положительное число и возвращает количество\n",
        "бит равных 1 в этом числе. Написать тесты для кода"
      ]
    },
    {
      "cell_type": "code",
      "execution_count": 37,
      "metadata": {
        "id": "6tkfDJRz6dp_"
      },
      "outputs": [],
      "source": [
        "def get_bit(number):\n",
        "    count = 0\n",
        "    while number:\n",
        "        count += number & 1\n",
        "        number >>= 1\n",
        "    return count\n",
        "\n",
        "def test_get_bit():\n",
        "    assert get_bit(12) == 2\n",
        "    assert get_bit(16) == 1\n",
        "    assert get_bit(0) == 0\n",
        "\n",
        "test_get_bit()"
      ]
    },
    {
      "cell_type": "markdown",
      "metadata": {
        "id": "26dDUz-Ae17N"
      },
      "source": [
        "# Задача 4\n",
        "Написать функцию, которая принимает положительное число. Функция должна вернуть то,\n",
        "сколько раз необходимо перемножать цифры числа или результат перемножения, чтобы\n",
        "получилось число состоящее из одной цифры.\n",
        "Например, для входного числа:\n",
        "· 39 функция должна вернуть 3, так как 3*9=27 => 2*7=14 => 1*4=4\n",
        "· 4 функция должна вернуть 0, так как число уже состоит из одной цифры\n",
        "· 999 функция должна вернуть 4, так как 9*9*9=729 => 7*2*9=126 => 1*2*6=12 =>\n",
        "1*2=2. Написать тесты для кода"
      ]
    },
    {
      "cell_type": "code",
      "execution_count": 2,
      "metadata": {
        "id": "BH1A_Mgi6i4G"
      },
      "outputs": [],
      "source": [
        "def magic(n):\n",
        "    count = 0\n",
        "    while n >= 10:\n",
        "        result = 1\n",
        "        for digit in str(n):\n",
        "            result *= int(digit)\n",
        "        n = result\n",
        "        count += 1\n",
        "    return count\n",
        "\n",
        "def test_magic():\n",
        "    assert magic(999) == 4\n",
        "    assert magic(39) == 3\n",
        "    assert magic(256) == 2\n",
        "\n",
        "test_magic()"
      ]
    },
    {
      "cell_type": "markdown",
      "metadata": {
        "id": "0nS-kIa8g8vd"
      },
      "source": [
        "# Задача 5\n",
        "Написать функцию, которая принимает два целочисленных вектора одинаковой длины и\n",
        "возвращает среднеквадратическое отклонение двух векторов. Написать тесты для кода"
      ]
    },
    {
      "cell_type": "code",
      "execution_count": 18,
      "metadata": {
        "id": "8iphx4LM6xbx"
      },
      "outputs": [],
      "source": [
        "import numpy as np\n",
        "\n",
        "def mse(pred, true):\n",
        "    return np.sqrt(((pred - true)**2).mean())\n",
        "\n",
        "def test_mse():\n",
        "    assert mse(np.array([1, 3, 5, 7, 9]), np.array([3, 9, 15, 21, 27])) == 11.489125293076057\n",
        "    assert mse(np.array([1, 2, 3, 4, 5]), np.array([2, 3, 4, 5, 6])) == 1.0\n",
        "\n",
        "test_mse()"
      ]
    },
    {
      "cell_type": "markdown",
      "metadata": {
        "id": "vpIPKL439zkw"
      },
      "source": [
        "# Задача 6\n",
        "Написать функцию, принимающая целое положительное число. Функция должна вернуть\n",
        "строку вида “(n1**p1)(n2**p2)…(nk**pk)” представляющая разложение числа на простые\n",
        "множители (если pi == 1, то выводить только ni).\n",
        "Например, для числа 86240 функция должна вернуть “(2**5)(5)(7**2)(11)”. Написать тесты для кода"
      ]
    },
    {
      "cell_type": "code",
      "execution_count": 15,
      "metadata": {
        "id": "pFebmcZk94Jw"
      },
      "outputs": [],
      "source": [
        "def get_prime_factors(number):\n",
        "    i = 2\n",
        "    factors = []\n",
        "    \n",
        "    while i * i <= number:\n",
        "        if number % i:\n",
        "            i += 1\n",
        "        else:\n",
        "            number //= i\n",
        "            factors.append(i)\n",
        "    \n",
        "    if number > 1:\n",
        "        factors.append(number)\n",
        "    \n",
        "    result = ''\n",
        "    current_number = factors[0]\n",
        "    count = 1\n",
        "    \n",
        "    for i in range(1, len(factors)):\n",
        "        if factors[i] == current_number:\n",
        "            count += 1\n",
        "        else:\n",
        "            result += f'({current_number}**{count})' if count > 1 else f'({current_number})'\n",
        "            current_number = factors[i]\n",
        "            count = 1\n",
        "    \n",
        "    result += f'({current_number}**{count})' if count > 1 else f'({current_number})'\n",
        "    \n",
        "    return result\n",
        "\n",
        "def test_get_prime_factors():\n",
        "    assert get_prime_factors(86240) == \"(2**5)(5)(7**2)(11)\"\n",
        "    assert get_prime_factors(120) == \"(2**3)(3)(5)\"\n",
        "    assert get_prime_factors(7) == \"(7)\"\n",
        "    assert get_prime_factors(100) == \"(2**2)(5**2)\"\n",
        "\n",
        "test_get_prime_factors()"
      ]
    },
    {
      "cell_type": "markdown",
      "metadata": {
        "id": "ps2s0BudX7A2"
      },
      "source": [
        "# Задача 7\n",
        "Написать функцию, принимающая целое число n, задающее количество кубиков. Функция\n",
        "должна определить, можно ли из данного кол-ва кубиков построить пирамиду, то есть\n",
        "можно ли представить число n как 1^2+2^2+3^2+…+k^2. Если можно, то функция должна\n",
        "вернуть k, иначе строку “It is impossible”. Написать тесты для кода"
      ]
    },
    {
      "cell_type": "code",
      "execution_count": 63,
      "metadata": {
        "id": "3YPjEXxhX_YT"
      },
      "outputs": [],
      "source": [
        "def pyramid(number):\n",
        "    sum_of_cub = 0\n",
        "    k = 1\n",
        "\n",
        "    while sum_of_cub < number:\n",
        "        sum_of_cub += k**2\n",
        "        if sum_of_cub == number:\n",
        "            return k\n",
        "        k += 1\n",
        "    \n",
        "    return \"It is impossible\"\n",
        "\n",
        "def test_pyramid():\n",
        "    assert pyramid(14) == 3\n",
        "    assert pyramid(12) == 'It is impossible'\n",
        "    assert pyramid(2) == 'It is impossible'\n",
        "    assert pyramid(5) == 2\n",
        "\n",
        "test_pyramid()"
      ]
    },
    {
      "cell_type": "markdown",
      "metadata": {
        "id": "KeKgmIdAQMEJ"
      },
      "source": [
        "# Задача 8\n",
        "Функция принимает на вход положительное число и определяет является ли оно сбалансированным, т.е. сумма цифр до средних равна сумме цифр после. Средними в случае нечетного числа цифр считать одну цифру, в случае четного - две средних. Написать тесты для кода"
      ]
    },
    {
      "cell_type": "code",
      "execution_count": 86,
      "metadata": {
        "id": "gMAAqtqlQrZt"
      },
      "outputs": [],
      "source": [
        "def get_balanced_number(number):\n",
        "    length = len(str(number))\n",
        "    \n",
        "    if length % 2 == 0:\n",
        "        middleOne = length // 2 - 1\n",
        "        middleTwo = length // 2\n",
        "    else:\n",
        "        middleOne = middleTwo = length // 2\n",
        "\n",
        "    sum_before_mid = sum(int(digit) for digit in str(number)[:middleOne])\n",
        "    sum_after_mid = sum(int(digit) for digit in str(number)[middleTwo+1:])\n",
        "    \n",
        "    return sum_before_mid == sum_after_mid\n",
        "\n",
        "def test_get_balanced_number():\n",
        "    assert get_balanced_number(12321) == True\n",
        "    assert get_balanced_number(12345) == False\n",
        "    assert get_balanced_number(54954) == True\n",
        "\n",
        "test_get_balanced_number()"
      ]
    }
  ],
  "metadata": {
    "colab": {
      "provenance": []
    },
    "kernelspec": {
      "display_name": "Python 3",
      "name": "python3"
    },
    "language_info": {
      "codemirror_mode": {
        "name": "ipython",
        "version": 3
      },
      "file_extension": ".py",
      "mimetype": "text/x-python",
      "name": "python",
      "nbconvert_exporter": "python",
      "pygments_lexer": "ipython3",
      "version": "3.8.0"
    }
  },
  "nbformat": 4,
  "nbformat_minor": 0
}
