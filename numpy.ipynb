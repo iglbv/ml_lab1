{
  "cells": [
    {
      "cell_type": "markdown",
      "metadata": {
        "id": "vC84e9kzyxPy"
      },
      "source": [
        "<h1>Импорт библиотек"
      ]
    },
    {
      "cell_type": "code",
      "execution_count": 2,
      "metadata": {
        "id": "cgKeNegmQG5S"
      },
      "outputs": [],
      "source": [
        "import numpy as np\n",
        "import matplotlib.pyplot as plt"
      ]
    },
    {
      "cell_type": "markdown",
      "metadata": {
        "id": "qFM9uVU2x4Ls"
      },
      "source": [
        "<h1>Задача 1. Дан набор из $p$ матриц размерностью $(n, n)$ и $p$ векторов размерностью $(n, 1)$, найти сумму произведений матриц на векторы. Написать тесты для кода"
      ]
    },
    {
      "cell_type": "code",
      "execution_count": 3,
      "metadata": {
        "id": "IAbUvEiYyWFF"
      },
      "outputs": [],
      "source": [
        "def sum_matrix_vector(matrices, vectors):\n",
        "    result = np.zeros_like(vectors[0])\n",
        "    for i in range(len(matrices)):\n",
        "        result += np.dot(matrices[i], vectors[i])\n",
        "\n",
        "    return result\n",
        "\n",
        "def test_sum_matrix_vector():\n",
        "    matrix1 = np.array([[1, 2, 3],[4, 5, 6],[7, 8, 9]])\n",
        "    vector1 = np.array([[1],[2],[3]])\n",
        "    matrix2 = np.array([[2, 1, 0],[1, 2, 1],[0, 1, 2]])\n",
        "    vector2 = np.array([[4],[5],[6]])\n",
        "\n",
        "    result1 = np.dot(matrix1, vector1)\n",
        "    result2 = np.dot(matrix2, vector2)\n",
        "    expected_result1 = result1 + result2\n",
        "\n",
        "    matrices1 = [matrix1, matrix2]\n",
        "    vectors1 = [vector1, vector2]\n",
        "    computed_result1 = sum_matrix_vector(matrices1, vectors1)\n",
        "\n",
        "    assert np.array_equal(computed_result1, expected_result1)\n",
        "\n",
        "    matrix3 = np.array([[9, 8, 7],[6, 5, 4],[3, 2, 1]])\n",
        "    vector3 = np.array([[7],[8],[9]])\n",
        "    matrix4 = np.array([[5, 4, 2],[1, 8, 9],[0, 3, 4]])\n",
        "    vector4 = np.array([[5],[4],[3]])\n",
        "\n",
        "    result3 = np.dot(matrix3, vector3)\n",
        "    result4 = np.dot(matrix4, vector4)\n",
        "    expected_result2 = result3 + result4\n",
        "\n",
        "    matrices2 = [matrix3, matrix4]\n",
        "    vectors2 = [vector3, vector4]\n",
        "    computed_result2 = sum_matrix_vector(matrices2, vectors2)\n",
        "\n",
        "    assert np.array_equal(computed_result2, expected_result2)\n",
        "\n",
        "test_sum_matrix_vector()"
      ]
    },
    {
      "cell_type": "markdown",
      "metadata": {
        "id": "TKwPG4fIy2w4"
      },
      "source": [
        "<h1>Задача 2. Дана матрица M, напишите функцию, которая бинаризует матрицу по некоторому threshold (то есть, все значения большие threshold становятся равными 1, иначе 0). Напишите тесты для кода"
      ]
    },
    {
      "cell_type": "code",
      "execution_count": 4,
      "metadata": {
        "id": "KQDNMgsjRNH7"
      },
      "outputs": [],
      "source": [
        "def binarize(M, threshold=0.5):\n",
        "    binary_m = np.where(M > threshold, 1, 0)\n",
        "    return binary_m\n",
        "\n",
        "def test_binarize():\n",
        "    assert np.array_equal(binarize(np.array([[0.1, 0.2, 0.3], [0.4, 0.5, 0.6], [0.7, 0.8, 0.9]]), 0.5), \n",
        "                          np.array([[0, 0, 0], [0, 0, 1],[1, 1, 1]]))\n",
        "    assert np.array_equal(binarize(np.array([[0.1, 0.7, 0.3], [0.9, 0.5, 0.2], [0.4, 0.8, 0.6]]), 0.5), \n",
        "                          np.array([[0, 1, 0], [1, 0, 0],[0, 1, 1]]))\n",
        "\n",
        "test_binarize()"
      ]
    },
    {
      "cell_type": "markdown",
      "metadata": {
        "id": "IY5L-h-7zWhN"
      },
      "source": [
        "<h1>Задача 3. Напишите функцию, которая возвращает уникальные элементы из каждой строки матрицы. Напишите такую же функцию, но для столбцов. Напишите тесты для кода"
      ]
    },
    {
      "cell_type": "code",
      "execution_count": 5,
      "metadata": {
        "id": "-8dEZhR0SBC-"
      },
      "outputs": [],
      "source": [
        "def unique_rows(mat):\n",
        "    return [np.unique(row) for row in mat]\n",
        "\n",
        "def unique_columns(mat):\n",
        "    return [np.unique(column) for column in mat.T]\n",
        "\n",
        "def test_unique_rows():\n",
        "    assert (np.array_equal(res, exp) for res, exp in zip\n",
        "            (unique_rows(np.array([[1, 2, 3, 1], [4, 5, 6, 4], [1, 1, 2, 2]])), \n",
        "            [np.array([1, 2, 3]), np.array([4, 5, 6]), np.array([1, 2])]))\n",
        "    \n",
        "def test_unique_columns():\n",
        "    assert all(np.array_equal(res, exp) for res, exp in zip\n",
        "               (unique_columns(np.array([[1, 3, 2], [4, 5, 5], [1, 2, 2]])),\n",
        "               [np.array([1, 4]), np.array([2, 3, 5]), np.array([2, 5])]))\n",
        "    \n",
        "test_unique_rows()\n",
        "test_unique_columns()"
      ]
    },
    {
      "cell_type": "markdown",
      "metadata": {
        "id": "roYAlo4Jz-lH"
      },
      "source": [
        "<h1>Задача 4. Напишите функцию, которая заполняет матрицу с размерами $(m, n)$ случайными числами, распределенными по нормальному закону. Затем считает мат. ожидание и дисперсию для каждого из столбцов и строк, а также строит для каждой строки и столбца гистограмму значений (использовать функцию hist из модуля matplotlib.plot)"
      ]
    },
    {
      "cell_type": "code",
      "execution_count": 147,
      "metadata": {
        "id": "nZK_71hMSQzv"
      },
      "outputs": [
        {
          "data": {
            "image/png": "[encoded data removed]",
            "text/plain": [
              "<Figure size 640x480 with 1 Axes>"
            ]
          },
          "metadata": {},
          "output_type": "display_data"
        },
        {
          "data": {
            "image/png": "[encoded data removed]",
            "text/plain": [
              "<Figure size 640x480 with 1 Axes>"
            ]
          },
          "metadata": {},
          "output_type": "display_data"
        }
      ],
      "source": [
        "def fill_matrix(m, n):\n",
        "    matrix = np.random.randn(m, n)\n",
        "    return matrix\n",
        "\n",
        "def calculate_mean_and_var(matrix):\n",
        "    row_means = np.mean(matrix, axis=1)\n",
        "    row_variances = np.var(matrix, axis=1)\n",
        "    col_means = np.mean(matrix, axis=0)\n",
        "    col_variances = np.var(matrix, axis=0)\n",
        "\n",
        "    return row_means, row_variances, col_means, col_variances\n",
        "\n",
        "def create_hist(matrix):\n",
        "    num_rows, num_cols = matrix.shape\n",
        "\n",
        "    for i in range(num_rows):\n",
        "        plt.hist(matrix[i], bins=10, alpha=0.5, label= f'Строка {i+1}')\n",
        "\n",
        "    plt.xlabel('Значение')\n",
        "    plt.ylabel('Частота')\n",
        "    plt.title('Гистограмма для строк')\n",
        "    plt.legend()\n",
        "    plt.show()\n",
        "\n",
        "    for j in range(num_cols):\n",
        "        plt.hist(matrix[:, j], bins=10, alpha=0.5, label=f'Столбец {j+1}')\n",
        "    \n",
        "    plt.xlabel('Значение')\n",
        "    plt.ylabel('Частота')\n",
        "    plt.title('Гистограмма для столбцов')\n",
        "    plt.legend()\n",
        "    plt.show()\n",
        "\n",
        "m = 5\n",
        "n = 4\n",
        "matrix = fill_matrix(m, n)\n",
        "row_means, row_variances, col_means, col_variances = calculate_mean_and_var(matrix)\n",
        "create_hist(matrix)"
      ]
    },
    {
      "cell_type": "markdown",
      "metadata": {
        "id": "BDyATNdM0dJ2"
      },
      "source": [
        "<h1>Задача 5. Напишите функцию, которая заполняет матрицу $(m, n)$ в шахматном порядке заданными числами $a$ и $b$. Напишите тесты для кода"
      ]
    },
    {
      "cell_type": "code",
      "execution_count": 6,
      "metadata": {
        "id": "RWNJYWQGecS6"
      },
      "outputs": [],
      "source": [
        "def chess(m, n, a, b):\n",
        "    matrix = np.full((m, n), a)\n",
        "    matrix[1::2, ::2] = b\n",
        "    matrix[::2, 1::2] = b\n",
        "    return matrix\n",
        "\n",
        "def test_chess():\n",
        "    assert np.array_equal(chess(4, 4, 0, 1), np.array([[0, 1, 0, 1], [1, 0, 1, 0], [0, 1, 0, 1], [1, 0, 1, 0]]))\n",
        "    assert np.array_equal(chess(3, 4, 0, 1), np.array([[0, 1, 0, 1], [1, 0, 1, 0], [0, 1, 0, 1]]))\n",
        "    assert np.array_equal(chess(2, 2, 5, 2), np.array([[5, 2], [2, 5]]))\n",
        "\n",
        "test_chess()"
      ]
    },
    {
      "cell_type": "markdown",
      "metadata": {
        "id": "-ymXLtTN0vB6"
      },
      "source": [
        "<h1>Задача 6. Напишите функцию, которая отрисовывает прямоугольник с заданными размерами (a, b) на изображении размера (m, n), цвет фона задайте в схеме RGB, как и цвет прямоугольника. Цвета также должны быть параметрами функции. Напишите аналогичную функцию но для овала с полуосями a и b. Напишите тесты для кода.\n",
        "Примечание: уравнение эллипса (границы овала) можно записать как:\n",
        "<h1>$\\frac{(x-x_0)^2}{a^2}+\\frac{(y-y_0)^2}{b^2}=1$"
      ]
    },
    {
      "cell_type": "code",
      "execution_count": 7,
      "metadata": {
        "id": "sNfl1t_kfOF4"
      },
      "outputs": [],
      "source": [
        "from PIL import Image\n",
        "\n",
        "def draw_rectangle(a, b, m, n, rectangle_color, background_color):\n",
        "    image = Image.new('RGB', (n, m), color=background_color)\n",
        "    pixels = image.load()\n",
        "    \n",
        "    for i in range(a, a+b):\n",
        "        for j in range(n):\n",
        "            pixels[j, i] = rectangle_color\n",
        "            \n",
        "    for i in range(m):\n",
        "        for j in range(a, a+b):\n",
        "            pixels[j, i] = rectangle_color\n",
        "    \n",
        "    return np.array(image)\n",
        "\n",
        "def draw_ellipse(a, b, m, n, ellipse_color, background_color):\n",
        "    image = Image.new('RGB', (n, m), color=background_color)\n",
        "    pixels = image.load()\n",
        "    center_x = n // 2\n",
        "    center_y = m // 2\n",
        "\n",
        "    for y in range(m):\n",
        "        for x in range(n):\n",
        "            if ((x - center_x) / a)**2 + ((y - center_y) / b)**2 <= 1:\n",
        "                pixels[x, y] = ellipse_color\n",
        "                \n",
        "    return np.array(image)\n",
        "\n",
        "def test_draw_shapes():\n",
        "    m = 200\n",
        "    n = 300\n",
        "    rectangle_color = (255, 0, 0)\n",
        "    background_color = (255, 255, 255)\n",
        "    image_rect = draw_rectangle(50, 80, m, n, rectangle_color, background_color)\n",
        "    assert np.array_equal(image_rect[50:130, :80, :], np.full((80, 80, 3), rectangle_color))\n",
        "    \n",
        "    a = 80\n",
        "    b = 50\n",
        "    ellipse_color = (0, 255, 0)\n",
        "    image_ellipse = draw_ellipse(a, b, m, n, ellipse_color, background_color)\n",
        "    for y in range(m):\n",
        "        for x in range(n):\n",
        "            if ((x - n//2) / a)**2 + ((y - m//2) / b)**2 <= 1:\n",
        "                assert np.array_equal(image_ellipse[y, x, :], ellipse_color)\n",
        "\n",
        "test_draw_shapes()"
      ]
    },
    {
      "cell_type": "markdown",
      "metadata": {
        "id": "S82c38oz244H"
      },
      "source": [
        "<h1>Задача 7. Дан некий временной ряд. Для данного ряда нужно найти его: математическое ожидание, дисперсию, СКО, найти все локальные максимумы и минимумы (локальный максимум - это точка, которая больше своих соседних точек, а локальный минимум - это точка, которая меньше своих соседей), а также вычислить для данного ряда другой ряд, получаемый методом скользящего среднего с размером окна $p$.\n",
        "<h1>Примечание: метод скользящего среднего подразумевает нахождение среднего из подмножетсва ряда размером $p$"
      ]
    },
    {
      "cell_type": "code",
      "execution_count": 8,
      "metadata": {
        "id": "Zb9mIVge5MMt"
      },
      "outputs": [
        {
          "name": "stdout",
          "output_type": "stream",
          "text": [
            "5.7\n",
            "10.41\n",
            "10.41\n",
            "[2 4 6 8]\n",
            "[1 3 5 7]\n",
            "[       nan        nan 5.         6.33333333 4.33333333 6.\n",
            " 5.33333333 6.66666667 4.         6.33333333]\n"
          ]
        }
      ],
      "source": [
        "def get_mean(time_series):\n",
        "    return np.mean(time_series)\n",
        "\n",
        "def get_var(time_series):\n",
        "    return np.var(time_series)\n",
        "\n",
        "def get_std(time_series):\n",
        "    return np.var(time_series)\n",
        "\n",
        "def get_local_min(time_series):\n",
        "    return np.where((np.diff(np.sign(np.diff(time_series))) > 0))[0] + 1\n",
        "\n",
        "def get_local_max(time_series):\n",
        "    return np.where((np.diff(np.sign(np.diff(time_series))) < 0))[0] + 1\n",
        "\n",
        "def get_moving_average(series, p):\n",
        "    mov_avg = np.convolve(series, np.ones(p), 'valid') / p\n",
        "    return np.concatenate((np.full(p-1, np.nan), mov_avg))\n",
        "\n",
        "time_series = np.array([3, 8, 4, 7, 2, 9, 5, 6, 1, 12])\n",
        "p = 3\n",
        "\n",
        "print(get_mean(time_series))\n",
        "print(get_var (time_series))\n",
        "print(get_std(time_series))\n",
        "print(get_local_min(time_series))\n",
        "print(get_local_max(time_series))\n",
        "print(get_moving_average(time_series, p))\n",
        "\n"
      ]
    },
    {
      "cell_type": "markdown",
      "metadata": {
        "id": "jPkylmOX5O9n"
      },
      "source": [
        "<h1> Задача 8. Дан некоторый вектор с целочисленными метками классов, напишите функцию, которая выполняет one-hot-encoding для данного вектора\n",
        "<h1> One-hot-encoding - представление, в котором на месте метки некоторого класса стоит 1, в остальных позициях стоит 0. Например для вектора [0, 2, 3, 0] one-hot-encoding выглядит как: [[1, 0, 0, 0], [0, 0, 1, 0], [0, 0, 0, 1], [1, 0, 0, 0]]"
      ]
    },
    {
      "cell_type": "code",
      "execution_count": 9,
      "metadata": {
        "id": "Y-jlnZvw56lD"
      },
      "outputs": [
        {
          "name": "stdout",
          "output_type": "stream",
          "text": [
            "[[1. 0. 0. 0.]\n",
            " [0. 0. 1. 0.]\n",
            " [0. 0. 0. 1.]\n",
            " [1. 0. 0. 0.]]\n"
          ]
        }
      ],
      "source": [
        "def one_hot_encoding(labels, classes):\n",
        "    encoded_labels = np.zeros((len(labels), classes))\n",
        "    encoded_labels[np.arange(len(labels)), labels] = 1\n",
        "    return encoded_labels\n",
        "\n",
        "vector = [0, 2, 3, 0]\n",
        "classes = 4\n",
        "\n",
        "print(one_hot_encoding(vector, classes))"
      ]
    }
  ],
  "metadata": {
    "colab": {
      "provenance": []
    },
    "kernelspec": {
      "display_name": "Python 3",
      "name": "python3"
    },
    "language_info": {
      "codemirror_mode": {
        "name": "ipython",
        "version": 3
      },
      "file_extension": ".py",
      "mimetype": "text/x-python",
      "name": "python",
      "nbconvert_exporter": "python",
      "pygments_lexer": "ipython3",
      "version": "3.8.0"
    }
  },
  "nbformat": 4,
  "nbformat_minor": 0
}
